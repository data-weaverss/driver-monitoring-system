{
  "cells": [
    {
      "cell_type": "code",
      "execution_count": 1,
      "metadata": {
        "colab": {
          "base_uri": "https://localhost:8080/"
        },
        "id": "ycm0qQPd5-G5",
        "outputId": "59692303-b081-4d3c-98fe-359a1dfb4f51"
      },
      "outputs": [
        {
          "output_type": "stream",
          "name": "stdout",
          "text": [
            "Mounted at /content/drive\n"
          ]
        }
      ],
      "source": [
        "from google.colab import drive\n",
        "\n",
        "drive.mount(\"/content/drive\")"
      ]
    },
    {
      "cell_type": "markdown",
      "metadata": {
        "id": "dfKVO2YNs007"
      },
      "source": [
        "# 탐색적 데이터 분석"
      ]
    },
    {
      "cell_type": "markdown",
      "metadata": {
        "id": "X69FkSBm53hV"
      },
      "source": [
        "## 라이브러리 임포트"
      ]
    },
    {
      "cell_type": "code",
      "execution_count": null,
      "metadata": {
        "id": "FVlsKee47lG7"
      },
      "outputs": [],
      "source": [
        "# !pip install koreanize-matplotlib"
      ]
    },
    {
      "cell_type": "code",
      "execution_count": null,
      "metadata": {
        "id": "9UhqnRXq548f"
      },
      "outputs": [],
      "source": [
        "import matplotlib.pyplot as plt\n",
        "import koreanize_matplotlib\n",
        "import numpy as np\n",
        "import os\n",
        "from collections import Counter"
      ]
    },
    {
      "cell_type": "markdown",
      "metadata": {
        "id": "ZljfCD-_tY9q"
      },
      "source": [
        "## 데이터 둘러보기 - 시각화\n",
        "- 훈련 데이터 개수\n",
        "- 테스트 데이터 개수\n",
        "- 타겟값 분포"
      ]
    },
    {
      "cell_type": "code",
      "execution_count": null,
      "metadata": {
        "id": "6vZd64q16Mx8"
      },
      "outputs": [],
      "source": [
        "data_path = \"/content/drive/MyDrive/DMS/data/train_test_split_dataset\"\n",
        "train_data_path = os.path.join(data_path, \"train_dataset\")\n",
        "test_data_path = os.path.join(data_path, \"test_dataset\")"
      ]
    },
    {
      "cell_type": "code",
      "execution_count": null,
      "metadata": {
        "id": "bEmW3JhK6TaH"
      },
      "outputs": [],
      "source": [
        "def get_data_distribution(data_path):\n",
        "    \"\"\"\n",
        "    주어진 데이터 폴더에서 클래스별 샘플 개수를 계산하는 함수\n",
        "    \"\"\"\n",
        "    label_counts = Counter()\n",
        "    class_names = []\n",
        "\n",
        "    # 폴더를 순회하며 데이터 개수 계산\n",
        "    for label_dir in os.listdir(data_path):\n",
        "        label_dirs_path = os.path.join(data_path, label_dir)\n",
        "\n",
        "        if os.path.isdir(label_dirs_path):  # 디렉토리인지 확인\n",
        "            class_name = label_dir.split(\"_\")[0]  # 예: \"normal_dmd\" -> \"normal\"\n",
        "            class_names.append(class_name)\n",
        "            label_counts[class_name] += len(\n",
        "                os.listdir(label_dirs_path)\n",
        "            )  # 해당 폴더 내 샘플 개수\n",
        "\n",
        "    return label_counts, sorted(set(class_names))  # (클래스별 샘플 개수, 클래스 리스트)"
      ]
    },
    {
      "cell_type": "code",
      "execution_count": null,
      "metadata": {
        "id": "2gu3WnqW66eg"
      },
      "outputs": [],
      "source": [
        "def visualize_data_distribution(train_data_path, test_data_path):\n",
        "    \"\"\"\n",
        "    훈련/테스트 데이터 개수 및 타겟값 분포를 시각화하는 함수\n",
        "    \"\"\"\n",
        "    # 데이터 개수 확인\n",
        "    train_label_counts, class_names = get_data_distribution(train_data_path)\n",
        "    test_label_counts, _ = get_data_distribution(test_data_path)\n",
        "\n",
        "    num_train = sum(train_label_counts.values())\n",
        "    num_test = sum(test_label_counts.values())\n",
        "\n",
        "    print(f\"📌 훈련 데이터 개수: {num_train}\")\n",
        "    print(f\"📌 테스트 데이터 개수: {num_test}\")\n",
        "\n",
        "    # 클래스별 개수 정렬\n",
        "    train_counts_sorted = [train_label_counts[class_name] for class_name in class_names]\n",
        "    test_counts_sorted = [test_label_counts[class_name] for class_name in class_names]\n",
        "\n",
        "    # 시각화\n",
        "    fig, axes = plt.subplots(1, 2, figsize=(12, 5))\n",
        "\n",
        "    # (왼쪽) Bar Chart - 클래스별 샘플 개수 비교\n",
        "    x = np.arange(len(class_names))\n",
        "    width = 0.4\n",
        "\n",
        "    axes[0].bar(x - width / 2, train_counts_sorted, width, label=\"Train\", alpha=0.7)\n",
        "    axes[0].bar(x + width / 2, test_counts_sorted, width, label=\"Test\", alpha=0.7)\n",
        "    axes[0].set_xticks(x)\n",
        "    axes[0].set_xticklabels(class_names, rotation=45)\n",
        "    axes[0].set_ylabel(\"샘플 개수\")\n",
        "    axes[0].set_title(\"클래스별 데이터 분포\")\n",
        "    axes[0].legend()\n",
        "\n",
        "    # (오른쪽) Pie Chart - 전체 데이터 비율\n",
        "    total_counts = np.array(\n",
        "        [\n",
        "            train_label_counts[class_name] + test_label_counts[class_name]\n",
        "            for class_name in class_names\n",
        "        ]\n",
        "    )\n",
        "    axes[1].pie(\n",
        "        total_counts,\n",
        "        labels=class_names,\n",
        "        autopct=\"%1.1f%%\",\n",
        "        startangle=140,\n",
        "        colors=plt.cm.Paired.colors,\n",
        "    )\n",
        "    axes[1].set_title(\"클래스별 전체 데이터 비율\")\n",
        "\n",
        "    plt.tight_layout()\n",
        "    plt.show()"
      ]
    },
    {
      "cell_type": "code",
      "execution_count": null,
      "metadata": {
        "colab": {
          "base_uri": "https://localhost:8080/",
          "height": 543
        },
        "id": "-KSpgsrS7G3l",
        "outputId": "7bb9e473-09bc-4954-cc06-0f9cf8fb2a02"
      },
      "outputs": [
        {
          "name": "stdout",
          "output_type": "stream",
          "text": [
            "📌 훈련 데이터 개수: 8706\n",
            "📌 테스트 데이터 개수: 1959\n"
          ]
        },
        {
          "data": {
            "image/png": "[encoded data removed]",
            "text/plain": [
              "<Figure size 1200x500 with 2 Axes>"
            ]
          },
          "metadata": {},
          "output_type": "display_data"
        }
      ],
      "source": [
        "visualize_data_distribution(train_data_path, test_data_path)"
      ]
    },
    {
      "cell_type": "markdown",
      "metadata": {
        "id": "FGFl8JQwtlol"
      },
      "source": [
        "---\n",
        "# 베이스라인 모델"
      ]
    },
    {
      "cell_type": "markdown",
      "metadata": {
        "id": "xtoowSntPZaD"
      },
      "source": [
        "## 라이브러리 임포트"
      ]
    },
    {
      "cell_type": "code",
      "execution_count": 2,
      "metadata": {
        "id": "7CNnrFEDPbJo"
      },
      "outputs": [],
      "source": [
        "import os\n",
        "import numpy as np\n",
        "import torch\n",
        "import torch.nn as nn\n",
        "import torch.nn.functional as F\n",
        "import torchvision.models as models\n",
        "import torchvision.transforms as transforms\n",
        "import torch.utils.data as data\n",
        "import torchvision\n",
        "from torch.autograd import Variable\n",
        "import matplotlib.pyplot as plt\n",
        "from sklearn.preprocessing import LabelEncoder\n",
        "from sklearn.metrics import accuracy_score\n",
        "import torch.optim as optim\n",
        "from PIL import Image"
      ]
    },
    {
      "cell_type": "markdown",
      "metadata": {
        "id": "oABlgC6bWT3n"
      },
      "source": [
        "## 설정값 config"
      ]
    },
    {
      "cell_type": "code",
      "execution_count": 3,
      "metadata": {
        "id": "c8LjOxPLPlIz"
      },
      "outputs": [],
      "source": [
        "config = {\n",
        "    # CNN 설정\n",
        "    \"CNN_fc_hidden1\": 1024,  # 첫 번째 FC Layer 뉴런 개수\n",
        "    \"CNN_fc_hidden2\": 768,  # 두 번째 FC Layer 뉴런 개수\n",
        "    \"CNN_embed_dim\": 512,  # 2D CNN이 추출하는 특징 벡터 크기\n",
        "    \"res_size\": 224,  # ResNet 입력 이미지 크기\n",
        "    \"dropout_p\": 0.0,  # 드롭아웃 비율\n",
        "\n",
        "    # RNN 설정\n",
        "    \"RNN_hidden_layers\": 3,  # LSTM Layer 개수\n",
        "    \"RNN_hidden_nodes\": 512,  # RNN Hidden State 크기\n",
        "    \"RNN_FC_dim\": 256,  # RNN 최종 FC Layer 뉴런 개수\n",
        "\n",
        "    # 학습 설정\n",
        "    \"k\": 4,  # 클래스 개수 (normal, yawn, phonecall, text)\n",
        "    \"epochs\": 15,  # 총 학습 횟수\n",
        "    \"batch_size\": 64,  # 배치 크기\n",
        "    \"learning_rate\": 5e-5,  # 학습률\n",
        "    \"log_interval\": 5,  # 몇 번의 배치마다 로그 출력할지\n",
        "\n",
        "    \"action_names\": [\"normal\", \"yawn\", \"phonecall\", \"text\"],  # 분류할 행동 리스트\n",
        "\n",
        "    \"use_cuda\": torch.cuda.is_available(),\n",
        "    \"device\": torch.device(\n",
        "        \"cuda\" if torch.cuda.is_available() else \"cpu\"\n",
        "    ),  # GPU 사용 가능 여부에 따라 device 설정\n",
        "    \"early_stopping_patience\": 5,  # Early Stopping 기준 Epoch\n",
        "    \"reduce_lr_factor\": 0.5,  # Learning Rate 감소 비율\n",
        "    \"reduce_lr_patience\": 3,  # Learning Rate 감소 기준 Epoch\n",
        "\n",
        "    # 모델 결과 저장 경로\n",
        "    \"model_save_path\": \"/content/drive/MyDrive/DMS/ResNetCRNN_baseline_test_ckpt\",\n",
        "    \"train_result_path\": \"/content/drive/MyDrive/DMS/ResNetCRNN_baseline_train_result_test\",\n",
        "}"
      ]
    },
    {
      "cell_type": "markdown",
      "metadata": {
        "id": "mIogV-MAtnCj"
      },
      "source": [
        "## 데이터 준비"
      ]
    },
    {
      "cell_type": "code",
      "execution_count": 4,
      "metadata": {
        "id": "lxBj1JeLtqPS"
      },
      "outputs": [],
      "source": [
        "data_path = \"/content/drive/MyDrive/DMS/data/train_test_split_dataset\"\n",
        "train_data_path = os.path.join(data_path, \"train_dataset\")\n",
        "test_data_path = os.path.join(data_path, \"test_dataset\")"
      ]
    },
    {
      "cell_type": "markdown",
      "metadata": {
        "id": "BonSwgk2uN3Y"
      },
      "source": [
        "### 이미지 변환기"
      ]
    },
    {
      "cell_type": "code",
      "execution_count": 5,
      "metadata": {
        "id": "gHdJmyeDuPNz"
      },
      "outputs": [],
      "source": [
        "res_size = config[\"res_size\"]  # ResNet 이미지 크기\n",
        "transform = transforms.Compose(\n",
        "    [\n",
        "        transforms.Resize([res_size, res_size]),  # 이미지 크기 조정\n",
        "        transforms.ToTensor(),  # 텐서 변환\n",
        "        transforms.Normalize(\n",
        "            mean=[0.485, 0.456, 0.406], std=[0.229, 0.224, 0.225]\n",
        "        ),  # 정규화\n",
        "    ]\n",
        ")"
      ]
    },
    {
      "cell_type": "markdown",
      "metadata": {
        "id": "lIQCpoZFufkH"
      },
      "source": [
        "### 데이터셋 클래스 정의"
      ]
    },
    {
      "cell_type": "code",
      "execution_count": 6,
      "metadata": {
        "id": "_kE6uO4PuiqQ"
      },
      "outputs": [],
      "source": [
        "class Dataset_CRNN(data.Dataset):\n",
        "    def __init__(self, data_path, folders, labels, transform=None):\n",
        "        self.data_path = data_path\n",
        "        self.labels = labels\n",
        "        self.folders = folders\n",
        "        self.transform = transform\n",
        "\n",
        "    def __len__(self):\n",
        "        return len(self.folders)\n",
        "\n",
        "    def read_images(self, path, selected_folder, use_transform):\n",
        "        X = []\n",
        "        frame_files = sorted(\n",
        "            [\n",
        "                f\n",
        "                for f in os.listdir(os.path.join(path, selected_folder))\n",
        "                if f.endswith(\".jpg\")\n",
        "            ]\n",
        "        )\n",
        "\n",
        "        for frame_filename in frame_files:\n",
        "            frame_path = os.path.join(path, selected_folder, frame_filename)\n",
        "            image = Image.open(frame_path)\n",
        "\n",
        "            if use_transform is not None:\n",
        "                image = use_transform(image)\n",
        "\n",
        "            X.append(image)\n",
        "\n",
        "        return torch.stack(X, dim=0)  # 모델 입력을 위해 텐서로 변환\n",
        "\n",
        "    def __getitem__(self, index):\n",
        "        folder = self.folders[index]\n",
        "        X = self.read_images(self.data_path, folder, self.transform)\n",
        "        y = torch.LongTensor([self.labels[index]])\n",
        "        return X, y"
      ]
    },
    {
      "cell_type": "markdown",
      "metadata": {
        "id": "mcxkuOFmvIq-"
      },
      "source": [
        "### 데이터셋 생성"
      ]
    },
    {
      "cell_type": "code",
      "execution_count": 7,
      "metadata": {
        "id": "q9dlXicvvah9"
      },
      "outputs": [],
      "source": [
        "train_list, train_label = [], []\n",
        "test_list, test_label = [], []\n",
        "\n",
        "for label_dir in os.listdir(train_data_path):\n",
        "    label_dirs_path = os.path.join(train_data_path, label_dir)\n",
        "    label = label_dir.split(\"_\")[0]\n",
        "\n",
        "    for clipped_dirs in os.listdir(label_dirs_path):\n",
        "        train_list.append(os.path.join(\"train_dataset\", label_dir, clipped_dirs))\n",
        "        train_label.append(label)\n",
        "\n",
        "for label_dir in os.listdir(test_data_path):\n",
        "    label_dirs_path = os.path.join(test_data_path, label_dir)\n",
        "    label = label_dir.split(\"_\")[0]\n",
        "\n",
        "    for clipped_dirs in os.listdir(label_dirs_path):\n",
        "        test_list.append(os.path.join(\"test_dataset\", label_dir, clipped_dirs))\n",
        "        test_label.append(label)"
      ]
    },
    {
      "cell_type": "markdown",
      "metadata": {
        "id": "ngOVWxS6u8k1"
      },
      "source": [
        "### Label Encoding"
      ]
    },
    {
      "cell_type": "code",
      "execution_count": 8,
      "metadata": {
        "id": "AuHt6KR6Ntop"
      },
      "outputs": [],
      "source": [
        "action_names = config[\"action_names\"]\n",
        "le = LabelEncoder()\n",
        "le.fit(action_names)\n",
        "\n",
        "train_label = le.transform(train_label)\n",
        "test_label = le.transform(test_label)"
      ]
    },
    {
      "cell_type": "markdown",
      "metadata": {
        "id": "YJSTe946vhHp"
      },
      "source": [
        "### 데이터 로더 생성"
      ]
    },
    {
      "cell_type": "code",
      "execution_count": 9,
      "metadata": {
        "id": "2eL9jveKN9I9"
      },
      "outputs": [],
      "source": [
        "train_set = Dataset_CRNN(data_path, train_list, train_label, transform)\n",
        "test_set = Dataset_CRNN(data_path, test_list, test_label, transform)"
      ]
    },
    {
      "cell_type": "code",
      "execution_count": 10,
      "metadata": {
        "colab": {
          "base_uri": "https://localhost:8080/"
        },
        "id": "nCqSGYExvjBG",
        "outputId": "42df4f2c-304e-4755-e0f1-23d031adc0c3"
      },
      "outputs": [
        {
          "output_type": "stream",
          "name": "stderr",
          "text": [
            "/usr/local/lib/python3.11/dist-packages/torch/utils/data/dataloader.py:617: UserWarning: This DataLoader will create 8 worker processes in total. Our suggested max number of worker in current system is 2, which is smaller than what this DataLoader is going to create. Please be aware that excessive worker creation might get DataLoader running slow or even freeze, lower the worker number to avoid potential slowness/freeze if necessary.\n",
            "  warnings.warn(\n"
          ]
        }
      ],
      "source": [
        "params = (\n",
        "    {\n",
        "        \"batch_size\": config[\"batch_size\"],\n",
        "        \"shuffle\": True,  # 데이터 섞기\n",
        "        \"num_workers\": 8,  # 데이터를 로드하는 프로세스 개수 (병렬 처리)\n",
        "        \"pin_memory\": True,  # CUDA 사용 시 메모리 핀 설정으로 속도 향상\n",
        "        \"persistent_workers\": True,  # worker 프로세스 유지하여 속도 증가\n",
        "        \"prefetch_factor\": 4,  # 미리 데이터를 4배 더 로드하여 속도 향상\n",
        "    }\n",
        "    if config[\"use_cuda\"]\n",
        "    else {}\n",
        ")\n",
        "\n",
        "train_loader = data.DataLoader(train_set, **params)\n",
        "test_loader = data.DataLoader(test_set, **params)"
      ]
    },
    {
      "cell_type": "markdown",
      "metadata": {
        "id": "Qv6MnNVdvpQh"
      },
      "source": [
        "## 모델 생성"
      ]
    },
    {
      "cell_type": "markdown",
      "metadata": {
        "id": "wi024ia1l1os"
      },
      "source": [
        "### device 설정"
      ]
    },
    {
      "cell_type": "code",
      "execution_count": 11,
      "metadata": {
        "id": "1OtRA5FtMlhD"
      },
      "outputs": [],
      "source": [
        "device = config[\"device\"]"
      ]
    },
    {
      "cell_type": "markdown",
      "metadata": {
        "id": "RwZsG7eUl47J"
      },
      "source": [
        "### ResCNNEncoder 모델 정의"
      ]
    },
    {
      "cell_type": "code",
      "execution_count": 12,
      "metadata": {
        "id": "TJ_fsxC_vqOa"
      },
      "outputs": [],
      "source": [
        "class ResCNNEncoder(nn.Module):\n",
        "    def __init__(self, fc_hidden1=512, fc_hidden2=512, drop_p=0.3, CNN_embed_dim=300):\n",
        "        \"\"\"Load the pretrained ResNet-152 and replace top fc layer.\"\"\"\n",
        "        super(ResCNNEncoder, self).__init__()\n",
        "\n",
        "        self.fc_hidden1, self.fc_hidden2 = fc_hidden1, fc_hidden2\n",
        "        self.drop_p = drop_p\n",
        "\n",
        "        resnet = models.resnet152(pretrained=True)\n",
        "        modules = list(resnet.children())[:-1]  # delete the last fc layer.\n",
        "        self.resnet = nn.Sequential(*modules)\n",
        "        self.fc1 = nn.Linear(resnet.fc.in_features, fc_hidden1)\n",
        "        self.bn1 = nn.BatchNorm1d(fc_hidden1, momentum=0.01)\n",
        "        self.fc2 = nn.Linear(fc_hidden1, fc_hidden2)\n",
        "        self.bn2 = nn.BatchNorm1d(fc_hidden2, momentum=0.01)\n",
        "        self.fc3 = nn.Linear(fc_hidden2, CNN_embed_dim)\n",
        "\n",
        "    def forward(self, x_3d):\n",
        "        cnn_embed_seq = []\n",
        "        for t in range(x_3d.size(1)):\n",
        "            # ResNet CNN\n",
        "            with torch.no_grad():\n",
        "                x = self.resnet(x_3d[:, t, :, :, :])  # ResNet\n",
        "                x = x.view(x.size(0), -1)  # flatten output of conv\n",
        "\n",
        "            # FC layers\n",
        "            x = self.bn1(self.fc1(x))\n",
        "            x = F.relu(x)\n",
        "            x = self.bn2(self.fc2(x))\n",
        "            x = F.relu(x)\n",
        "            x = F.dropout(x, p=self.drop_p, training=self.training)\n",
        "            x = self.fc3(x)\n",
        "\n",
        "            cnn_embed_seq.append(x)\n",
        "\n",
        "        # swap time and sample dim such that (sample dim, time dim, CNN latent dim)\n",
        "        cnn_embed_seq = torch.stack(cnn_embed_seq, dim=0).transpose_(0, 1)\n",
        "        # cnn_embed_seq: shape=(batch, time_step, input_size)\n",
        "\n",
        "        return cnn_embed_seq"
      ]
    },
    {
      "cell_type": "markdown",
      "metadata": {
        "id": "qEPOcjsNoynV"
      },
      "source": [
        "### DecoderRNN 모델 정의"
      ]
    },
    {
      "cell_type": "code",
      "execution_count": 13,
      "metadata": {
        "id": "K3yv5Rowo2qZ"
      },
      "outputs": [],
      "source": [
        "class DecoderRNN(nn.Module):\n",
        "    def __init__(\n",
        "        self,\n",
        "        CNN_embed_dim=300,\n",
        "        h_RNN_layers=3,\n",
        "        h_RNN=256,\n",
        "        h_FC_dim=128,\n",
        "        drop_p=0.3,\n",
        "        num_classes=50,\n",
        "    ):\n",
        "        super(DecoderRNN, self).__init__()\n",
        "\n",
        "        self.RNN_input_size = CNN_embed_dim\n",
        "        self.h_RNN_layers = h_RNN_layers  # RNN hidden layers\n",
        "        self.h_RNN = h_RNN  # RNN hidden nodes\n",
        "        self.h_FC_dim = h_FC_dim\n",
        "        self.drop_p = drop_p\n",
        "        self.num_classes = num_classes\n",
        "\n",
        "        self.LSTM = nn.LSTM(\n",
        "            input_size=self.RNN_input_size,\n",
        "            hidden_size=self.h_RNN,\n",
        "            num_layers=h_RNN_layers,\n",
        "            batch_first=True,  # input & output will has batch size as 1s dimension. e.g. (batch, time_step, input_size)\n",
        "        )\n",
        "\n",
        "        self.fc1 = nn.Linear(self.h_RNN, self.h_FC_dim)\n",
        "        self.fc2 = nn.Linear(self.h_FC_dim, self.num_classes)\n",
        "\n",
        "    def forward(self, x_RNN):\n",
        "\n",
        "        self.LSTM.flatten_parameters()\n",
        "        RNN_out, (h_n, h_c) = self.LSTM(x_RNN, None)\n",
        "        \"\"\" h_n shape (n_layers, batch, hidden_size), h_c shape (n_layers, batch, hidden_size) \"\"\"\n",
        "        \"\"\" None represents zero initial hidden state. RNN_out has shape=(batch, time_step, output_size) \"\"\"\n",
        "\n",
        "        # FC layers\n",
        "        x = self.fc1(RNN_out[:, -1, :])  # choose RNN_out at the last time step\n",
        "        x = F.relu(x)\n",
        "        x = F.dropout(x, p=self.drop_p, training=self.training)\n",
        "        x = self.fc2(x)\n",
        "\n",
        "        return x"
      ]
    },
    {
      "cell_type": "markdown",
      "metadata": {
        "id": "OX9dYHlv5sMY"
      },
      "source": [
        "### 모델 생성"
      ]
    },
    {
      "cell_type": "code",
      "execution_count": 14,
      "metadata": {
        "colab": {
          "base_uri": "https://localhost:8080/"
        },
        "id": "11mKoC4Q5sMY",
        "outputId": "4b967b49-8615-431c-c1b8-6f82351b335e"
      },
      "outputs": [
        {
          "output_type": "stream",
          "name": "stderr",
          "text": [
            "/usr/local/lib/python3.11/dist-packages/torchvision/models/_utils.py:208: UserWarning: The parameter 'pretrained' is deprecated since 0.13 and may be removed in the future, please use 'weights' instead.\n",
            "  warnings.warn(\n",
            "/usr/local/lib/python3.11/dist-packages/torchvision/models/_utils.py:223: UserWarning: Arguments other than a weight enum or `None` for 'weights' are deprecated since 0.13 and may be removed in the future. The current behavior is equivalent to passing `weights=ResNet152_Weights.IMAGENET1K_V1`. You can also use `weights=ResNet152_Weights.DEFAULT` to get the most up-to-date weights.\n",
            "  warnings.warn(msg)\n",
            "Downloading: \"https://download.pytorch.org/models/resnet152-394f9c45.pth\" to /root/.cache/torch/hub/checkpoints/resnet152-394f9c45.pth\n",
            "100%|██████████| 230M/230M [00:01<00:00, 156MB/s]\n"
          ]
        }
      ],
      "source": [
        "cnn_encoder = ResCNNEncoder(\n",
        "    fc_hidden1=config[\"CNN_fc_hidden1\"],\n",
        "    fc_hidden2=config[\"CNN_fc_hidden2\"],\n",
        "    drop_p=config[\"dropout_p\"],\n",
        "    CNN_embed_dim=config[\"CNN_embed_dim\"],\n",
        ").to(device)\n",
        "rnn_decoder = DecoderRNN(\n",
        "    CNN_embed_dim=config[\"CNN_embed_dim\"],\n",
        "    h_RNN_layers=config[\"RNN_hidden_layers\"],\n",
        "    h_RNN=config[\"RNN_hidden_nodes\"],\n",
        "    h_FC_dim=config[\"RNN_FC_dim\"],\n",
        "    drop_p=config[\"dropout_p\"],\n",
        "    num_classes=config[\"k\"],\n",
        ").to(device)\n",
        "\n",
        "model = [cnn_encoder, rnn_decoder]"
      ]
    },
    {
      "cell_type": "markdown",
      "metadata": {
        "id": "2laARiGrMzoq"
      },
      "source": [
        "### 멀티 GPU 병렬 처리"
      ]
    },
    {
      "cell_type": "code",
      "execution_count": 15,
      "metadata": {
        "colab": {
          "base_uri": "https://localhost:8080/"
        },
        "id": "ahdXNDlVM1la",
        "outputId": "ca8ce350-ef2c-499f-e778-28c726de9ef1"
      },
      "outputs": [
        {
          "output_type": "stream",
          "name": "stdout",
          "text": [
            "Using 1 GPU!\n"
          ]
        }
      ],
      "source": [
        "if torch.cuda.device_count() > 1:\n",
        "    print(f\"Using {torch.cuda.device_count()} GPUs!\")\n",
        "    cnn_encoder = nn.DataParallel(cnn_encoder)\n",
        "    rnn_decoder = nn.DataParallel(rnn_decoder)\n",
        "    crnn_params = (\n",
        "        list(cnn_encoder.module.fc1.parameters())\n",
        "        + list(cnn_encoder.module.bn1.parameters())\n",
        "        + list(cnn_encoder.module.fc2.parameters())\n",
        "        + list(cnn_encoder.module.bn2.parameters())\n",
        "        + list(cnn_encoder.module.fc3.parameters())\n",
        "        + list(rnn_decoder.parameters())\n",
        "    )\n",
        "else:\n",
        "    print(f\"Using {torch.cuda.device_count()} GPU!\")\n",
        "    crnn_params = (\n",
        "        list(cnn_encoder.fc1.parameters())\n",
        "        + list(cnn_encoder.bn1.parameters())\n",
        "        + list(cnn_encoder.fc2.parameters())\n",
        "        + list(cnn_encoder.bn2.parameters())\n",
        "        + list(cnn_encoder.fc3.parameters())\n",
        "        + list(rnn_decoder.parameters())\n",
        "    )"
      ]
    },
    {
      "cell_type": "markdown",
      "metadata": {
        "id": "ZvHN6bJVwP4I"
      },
      "source": [
        "## 모델 훈련 및 성능 검증"
      ]
    },
    {
      "cell_type": "markdown",
      "metadata": {
        "id": "flHAiPVmwYm0"
      },
      "source": [
        "### 옵티마이저 설정"
      ]
    },
    {
      "cell_type": "code",
      "execution_count": 16,
      "metadata": {
        "id": "bvGlcYYIwagS"
      },
      "outputs": [],
      "source": [
        "optimizer = torch.optim.Adam(crnn_params, lr=config[\"learning_rate\"])"
      ]
    },
    {
      "cell_type": "markdown",
      "metadata": {
        "id": "w4husnnLwdCy"
      },
      "source": [
        "### 손실 함수 설정"
      ]
    },
    {
      "cell_type": "code",
      "execution_count": 17,
      "metadata": {
        "id": "zcTAqaP_wlPP"
      },
      "outputs": [],
      "source": [
        "criterion = nn.CrossEntropyLoss()"
      ]
    },
    {
      "cell_type": "markdown",
      "metadata": {
        "id": "WWOn6C4y5sMZ"
      },
      "source": [
        "### 학습률 감소 스케줄러 설정\n",
        "Test Loss 기준\n",
        "- factor: 0.5, 학습률 50% 감소\n",
        "- verbose: True, 감소된 경우 로그 출력"
      ]
    },
    {
      "cell_type": "code",
      "execution_count": 19,
      "metadata": {
        "colab": {
          "base_uri": "https://localhost:8080/"
        },
        "id": "zbIGMSLu5sMd",
        "outputId": "f50cc27c-d64f-4c5a-ead4-bda051a101dc"
      },
      "outputs": [
        {
          "output_type": "stream",
          "name": "stderr",
          "text": [
            "/usr/local/lib/python3.11/dist-packages/torch/optim/lr_scheduler.py:62: UserWarning: The verbose parameter is deprecated. Please use get_last_lr() to access the learning rate.\n",
            "  warnings.warn(\n"
          ]
        }
      ],
      "source": [
        "scheduler = optim.lr_scheduler.ReduceLROnPlateau(\n",
        "    optimizer,\n",
        "    mode=\"min\",\n",
        "    factor=config[\"reduce_lr_factor\"],\n",
        "    patience=config[\"reduce_lr_patience\"],\n",
        "    verbose=True,\n",
        ")"
      ]
    },
    {
      "cell_type": "markdown",
      "metadata": {
        "id": "ne6SnCpE5sMd"
      },
      "source": [
        "### Early Stopping 설정"
      ]
    },
    {
      "cell_type": "code",
      "execution_count": 20,
      "metadata": {
        "id": "X1hqAAHW5sMd"
      },
      "outputs": [],
      "source": [
        "early_stopping_patience = config[\"early_stopping_patience\"]\n",
        "best_loss = np.inf\n",
        "patience_counter = 0"
      ]
    },
    {
      "cell_type": "markdown",
      "metadata": {
        "id": "uSdRiSeSM8ql"
      },
      "source": [
        "### 학습 진행"
      ]
    },
    {
      "cell_type": "markdown",
      "metadata": {
        "id": "T9tgRbHATVIr"
      },
      "source": [
        "#### train 함수"
      ]
    },
    {
      "cell_type": "code",
      "execution_count": 21,
      "metadata": {
        "id": "ySOgjH6QTWg3"
      },
      "outputs": [],
      "source": [
        "scaler = torch.amp.GradScaler()\n",
        "\n",
        "\n",
        "def train(log_interval, model, device, train_loader, optimizer, criterion, epoch):\n",
        "    cnn_encoder, rnn_decoder = model\n",
        "    cnn_encoder.train()\n",
        "    rnn_decoder.train()\n",
        "\n",
        "    losses, scores = [], []\n",
        "    total_samples = 0\n",
        "\n",
        "    for batch_idx, (X, y) in enumerate(train_loader):\n",
        "        X, y = X.to(device), y.to(device).view(\n",
        "            -1,\n",
        "        )\n",
        "\n",
        "        # Mixed Precision Training 적용\n",
        "        total_samples += X.size(0)\n",
        "        optimizer.zero_grad(set_to_none=True)\n",
        "\n",
        "        with torch.amp.autocast(\"cuda\"):\n",
        "            output = rnn_decoder(cnn_encoder(X))\n",
        "            loss = criterion(output, y)\n",
        "\n",
        "        scaler.scale(loss).backward()\n",
        "        scaler.step(optimizer)\n",
        "        scaler.update()\n",
        "\n",
        "        losses.append(loss.item())\n",
        "\n",
        "        # 정확도 계산\n",
        "        y_pred = torch.max(output, 1)[1]\n",
        "        acc = accuracy_score(\n",
        "            y.cpu().data.squeeze().numpy(),\n",
        "            y_pred.cpu().data.squeeze().numpy(),\n",
        "        )\n",
        "        scores.append(acc)\n",
        "\n",
        "        # 로그 출력\n",
        "        if (batch_idx + 1) % log_interval == 0:\n",
        "            print(\n",
        "                f\"Train Epoch: {epoch + 1} [{total_samples}/{len(train_loader.dataset)} \"\n",
        "                f\"({100.0 * (batch_idx + 1) / len(train_loader):.0f}%)]\\t\"\n",
        "                f\"Loss: {loss.item():.6f}, Acc: {100 * acc:.2f}%\"\n",
        "            )\n",
        "\n",
        "    return losses, scores"
      ]
    },
    {
      "cell_type": "markdown",
      "metadata": {
        "id": "-JgPBuFzTYx7"
      },
      "source": [
        "#### validate 함수"
      ]
    },
    {
      "cell_type": "code",
      "execution_count": 22,
      "metadata": {
        "id": "twodcC6DRR_G"
      },
      "outputs": [],
      "source": [
        "def validate(\n",
        "    model, device, criterion, test_loader, save_model_path=None, optimizer=None\n",
        "):\n",
        "    cnn_encoder, rnn_decoder = model\n",
        "    cnn_encoder.eval()\n",
        "    rnn_decoder.eval()\n",
        "\n",
        "    test_loss, all_y, all_y_pred = 0, [], []\n",
        "\n",
        "    with torch.no_grad():\n",
        "        for X, y in test_loader:\n",
        "            X, y = X.to(device), y.to(device).view(\n",
        "                -1,\n",
        "            )\n",
        "\n",
        "            with torch.amp.autocast(\"cuda\"):\n",
        "                output = rnn_decoder(cnn_encoder(X))\n",
        "                loss = criterion(output, y)\n",
        "\n",
        "            test_loss += loss.item()\n",
        "            y_pred = output.max(1, keepdim=True)[1]\n",
        "\n",
        "            all_y.extend(y)\n",
        "            all_y_pred.extend(y_pred)\n",
        "\n",
        "    test_loss /= len(test_loader.dataset)\n",
        "    all_y = torch.stack(all_y, dim=0)\n",
        "    all_y_pred = torch.stack(all_y_pred, dim=0)\n",
        "    test_score = accuracy_score(\n",
        "        all_y.cpu().data.squeeze().numpy(), all_y_pred.cpu().data.squeeze().numpy()\n",
        "    )\n",
        "\n",
        "    # 로그 출력\n",
        "    print(\n",
        "        f\"\\nTest set ({len(all_y)} samples): Average loss: {test_loss:.4f}, Accuracy: {100 * test_score:.2f}%\\n\"\n",
        "    )\n",
        "\n",
        "    # 모델 저장 기능(옵셔널)\n",
        "    if save_model_path and optimizer:\n",
        "        save_model(cnn_encoder, rnn_decoder, optimizer, epoch, save_model_path)\n",
        "\n",
        "    return test_loss, test_score"
      ]
    },
    {
      "cell_type": "markdown",
      "metadata": {
        "id": "PB1hVTPxWwpA"
      },
      "source": [
        "#### 모델 저장 함수"
      ]
    },
    {
      "cell_type": "code",
      "execution_count": 23,
      "metadata": {
        "id": "OCmYko3-WyND"
      },
      "outputs": [],
      "source": [
        "def save_model(cnn_encoder, rnn_decoder, optimizer, epoch, save_model_path):\n",
        "    \"\"\"\n",
        "    모델 및 옵티마이저 상태 저장 함수\n",
        "    \"\"\"\n",
        "    os.makedirs(save_model_path, exist_ok=True)\n",
        "\n",
        "    torch.save(\n",
        "        cnn_encoder.state_dict(),\n",
        "        os.path.join(save_model_path, f\"cnn_encoder_epoch{epoch + 1}.pth\"),\n",
        "    )\n",
        "    torch.save(\n",
        "        rnn_decoder.state_dict(),\n",
        "        os.path.join(save_model_path, f\"rnn_decoder_epoch{epoch + 1}.pth\"),\n",
        "    )\n",
        "    torch.save(\n",
        "        optimizer.state_dict(),\n",
        "        os.path.join(save_model_path, f\"optimizer_epoch{epoch + 1}.pth\"),\n",
        "    )\n",
        "\n",
        "    print(f\"✅ Epoch {epoch + 1} 모델 저장 완료\\n\")"
      ]
    },
    {
      "cell_type": "markdown",
      "metadata": {
        "id": "ggyRW-gPZFay"
      },
      "source": [
        "#### 학습 결과 저장 함수"
      ]
    },
    {
      "cell_type": "code",
      "execution_count": 24,
      "metadata": {
        "id": "zG01giPrZG6R"
      },
      "outputs": [],
      "source": [
        "def save_training_results(\n",
        "    epoch,\n",
        "    epoch_train_losses,\n",
        "    epoch_train_scores,\n",
        "    epoch_test_losses,\n",
        "    epoch_test_scores,\n",
        "    save_path=\"./\",\n",
        "):\n",
        "    \"\"\"\n",
        "    학습 과정의 손실(loss)과 정확도(score)를 저장하는 함수\n",
        "    \"\"\"\n",
        "    os.makedirs(save_path, exist_ok=True)\n",
        "\n",
        "    np.save(\n",
        "        os.path.join(save_path, \"CRNN_epoch_training_losses.npy\"),\n",
        "        np.array(epoch_train_losses),\n",
        "    )\n",
        "    np.save(\n",
        "        os.path.join(save_path, \"CRNN_epoch_tsave_path, raining_scores.npy\"),\n",
        "        np.array(epoch_train_scores),\n",
        "    )\n",
        "    np.save(\n",
        "        os.path.join(save_path, \"CRNN_epoch_test_loss.npy\"), np.array(epoch_test_losses)\n",
        "    )\n",
        "    np.save(\n",
        "        os.path.join(save_path, \"CRNN_epoch_test_score.npy\"),\n",
        "        np.array(epoch_test_scores),\n",
        "    )\n",
        "\n",
        "    print(f\"✅ Epoch {epoch+1} 학습 결과 저장 완료\\n\")"
      ]
    },
    {
      "cell_type": "markdown",
      "metadata": {
        "id": "3p_enw8aYFgw"
      },
      "source": [
        "#### train & validate & 모델 저장 & 학습 결과 저장"
      ]
    },
    {
      "cell_type": "code",
      "execution_count": null,
      "metadata": {
        "colab": {
          "base_uri": "https://localhost:8080/"
        },
        "id": "I-D4c8gkYSxR",
        "outputId": "543030a9-592c-4c65-86c4-5a46467bda93"
      },
      "outputs": [
        {
          "output_type": "stream",
          "name": "stdout",
          "text": [
            "Train Epoch: 1 [320/8706 (4%)]\tLoss: 1.357391, Acc: 67.19%\n"
          ]
        }
      ],
      "source": [
        "epoch_train_losses, epoch_train_scores = [], []\n",
        "epoch_test_losses, epoch_test_scores = [], []\n",
        "\n",
        "for epoch in range(config[\"epochs\"]):\n",
        "    epoch_train_loss, epoch_train_score = train(\n",
        "        config[\"log_interval\"], model, device, train_loader, optimizer, criterion, epoch\n",
        "    )\n",
        "\n",
        "    epoch_test_loss, epoch_test_score = validate(\n",
        "        model, device, criterion, test_loader, config[\"model_save_path\"], optimizer\n",
        "    )\n",
        "\n",
        "    epoch_train_losses.append(epoch_train_loss)\n",
        "    epoch_train_scores.append(epoch_train_score)\n",
        "    epoch_test_losses.append(epoch_test_loss)\n",
        "    epoch_test_scores.append(epoch_test_score)\n",
        "\n",
        "    # 학습률 감소 적용\n",
        "    scheduler.step(epoch_test_loss)\n",
        "\n",
        "    # Early Stopping 체크\n",
        "    if epoch_test_loss < best_loss:\n",
        "        best_loss = epoch_test_loss\n",
        "        patience_counter = 0  # 개선되었으므로 patience 초기화\n",
        "    else:\n",
        "        patience_counter += 1  # 개선되지 않으면 patience 증가\n",
        "        print(\n",
        "            f\"⏳ Early stopping 대기 카운트: {patience_counter}/{early_stopping_patience}\"\n",
        "        )\n",
        "\n",
        "    # 설정된 patience 횟수만큼 개선되지 않으면 학습 중단\n",
        "    if patience_counter >= early_stopping_patience:\n",
        "        print(\"⏹️ Early stopping 적용됨. 학습 종료.\")\n",
        "        break  # 학습 중단\n",
        "\n",
        "    # 학습 결과 저장\n",
        "    save_training_results(\n",
        "        epoch,\n",
        "        epoch_train_losses,\n",
        "        epoch_train_scores,\n",
        "        epoch_test_losses,\n",
        "        epoch_test_scores,\n",
        "        save_path=config[\"train_result_path\"],\n",
        "    )"
      ]
    },
    {
      "cell_type": "markdown",
      "metadata": {
        "id": "T3rkCkrjNDSX"
      },
      "source": [
        "## 결과 시각화"
      ]
    },
    {
      "cell_type": "code",
      "execution_count": null,
      "metadata": {
        "id": "oyXugdIMf1lg"
      },
      "outputs": [],
      "source": [
        "def plot_training_results(\n",
        "    epochs,\n",
        "    epoch_train_losses,\n",
        "    epoch_train_scores,\n",
        "    epoch_test_losses,\n",
        "    epoch_test_scores,\n",
        "    save_path=\"./\",\n",
        "):\n",
        "    \"\"\"\n",
        "    학습 과정의 Loss 및 Accuracy를 시각화하는 함수\n",
        "    \"\"\"\n",
        "    os.makedirs(save_path, exist_ok=True)\n",
        "\n",
        "    A = np.array(epoch_train_losses)\n",
        "    B = np.array(epoch_train_scores)\n",
        "    C = np.array(epoch_test_losses)\n",
        "    D = np.array(epoch_test_scores)\n",
        "\n",
        "    fig = plt.figure(figsize=(10, 4))\n",
        "\n",
        "    # Loss 그래프\n",
        "    plt.subplot(121)\n",
        "    plt.plot(np.arange(1, epochs + 1), A.mean(axis=1))  # train loss(각 에포크의 평균)\n",
        "    plt.plot(np.arange(1, epochs + 1), C)  # test loss\n",
        "    plt.title(\"Model Loss\")\n",
        "    plt.xlabel(\"Epochs\")\n",
        "    plt.ylabel(\"Loss\")\n",
        "    plt.legend([\"Train\", \"Test\"], loc=\"upper left\")\n",
        "\n",
        "    # Accuracy 그래프\n",
        "    plt.subplot(122)\n",
        "    plt.plot(\n",
        "        np.arange(1, epochs + 1), B.mean(axis=1)\n",
        "    )  # train accuracy (각 에포크의 평균)\n",
        "    plt.plot(np.arange(1, epochs + 1), D)  # test accuracy\n",
        "    plt.title(\"Training Scores\")\n",
        "    plt.xlabel(\"Epochs\")\n",
        "    plt.ylabel(\"Accuracy\")\n",
        "    plt.legend([\"Train\", \"Test\"], loc=\"upper left\")\n",
        "\n",
        "    # 그래프 저장\n",
        "    plot_save_path = os.path.join(save_path, \"training_results.png\")\n",
        "    plt.savefig(plot_save_path, dpi=600)\n",
        "    plt.show()\n",
        "\n",
        "    print(f\"\\n✅ 학습 그래프 저장 완료 ({plot_save_path})\\n\")"
      ]
    },
    {
      "cell_type": "code",
      "execution_count": null,
      "metadata": {
        "id": "4Bj0jCj6NFtV"
      },
      "outputs": [],
      "source": [
        "plot_training_results(\n",
        "    config[\"epochs\"],\n",
        "    epoch_train_losses,\n",
        "    epoch_train_scores,\n",
        "    epoch_test_losses,\n",
        "    epoch_test_scores,\n",
        "    save_path=config[\"train_result_path\"],\n",
        ")"
      ]
    }
  ],
  "metadata": {
    "accelerator": "GPU",
    "colab": {
      "gpuType": "T4",
      "provenance": [],
      "toc_visible": true
    },
    "kernelspec": {
      "display_name": "Python 3",
      "name": "python3"
    },
    "language_info": {
      "name": "python"
    }
  },
  "nbformat": 4,
  "nbformat_minor": 0
}